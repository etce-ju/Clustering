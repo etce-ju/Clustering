{
  "nbformat": 4,
  "nbformat_minor": 0,
  "metadata": {
    "colab": {
      "name": "k-means.ipynb",
      "version": "0.3.2",
      "provenance": []
    },
    "language_info": {
      "codemirror_mode": {
        "name": "ipython",
        "version": 3
      },
      "file_extension": ".py",
      "mimetype": "text/x-python",
      "name": "python",
      "nbconvert_exporter": "python",
      "pygments_lexer": "ipython3",
      "version": "3.6.5"
    },
    "kernelspec": {
      "display_name": "Python 3",
      "language": "python",
      "name": "python3"
    }
  },
  "cells": [
    {
      "cell_type": "code",
      "metadata": {
        "id": "PIfFD1-pWy9A",
        "colab_type": "code",
        "colab": {
          "base_uri": "https://localhost:8080/",
          "height": 125
        },
        "outputId": "39240781-034b-49cf-a0b1-babc2c938075"
      },
      "source": [
        "from google.colab import drive\n",
        "drive.mount('/content/drive')"
      ],
      "execution_count": 2,
      "outputs": [
        {
          "output_type": "stream",
          "text": [
            "Go to this URL in a browser: https://accounts.google.com/o/oauth2/auth?client_id=947318989803-6bn6qk8qdgf4n4g3pfee6491hc0brc4i.apps.googleusercontent.com&redirect_uri=urn%3Aietf%3Awg%3Aoauth%3A2.0%3Aoob&scope=email%20https%3A%2F%2Fwww.googleapis.com%2Fauth%2Fdocs.test%20https%3A%2F%2Fwww.googleapis.com%2Fauth%2Fdrive%20https%3A%2F%2Fwww.googleapis.com%2Fauth%2Fdrive.photos.readonly%20https%3A%2F%2Fwww.googleapis.com%2Fauth%2Fpeopleapi.readonly&response_type=code\n",
            "\n",
            "Enter your authorization code:\n",
            "··········\n",
            "Mounted at /content/drive\n"
          ],
          "name": "stdout"
        }
      ]
    },
    {
      "cell_type": "code",
      "metadata": {
        "id": "g_a4lbhIZxnH",
        "colab_type": "code",
        "colab": {
          "base_uri": "https://localhost:8080/",
          "height": 52
        },
        "outputId": "e4d1a368-34e9-486a-efa3-da714c87c583"
      },
      "source": [
        "cd drive/My Drive/Konar_sir/Clustering/"
      ],
      "execution_count": 6,
      "outputs": [
        {
          "output_type": "stream",
          "text": [
            "[Errno 2] No such file or directory: 'drive/My Drive/Konar_sir/Clustering/Clustering-master'\n",
            "/content/drive/My Drive/Konar_sir/Clustering\n"
          ],
          "name": "stdout"
        }
      ]
    },
    {
      "cell_type": "code",
      "metadata": {
        "id": "h3x1WdlmZxpj",
        "colab_type": "code",
        "colab": {
          "base_uri": "https://localhost:8080/",
          "height": 34
        },
        "outputId": "e9755f44-f31e-480b-943b-b5cd933b0862"
      },
      "source": [
        "cd Clustering-master"
      ],
      "execution_count": 7,
      "outputs": [
        {
          "output_type": "stream",
          "text": [
            "/content/drive/My Drive/Konar_sir/Clustering/Clustering-master\n"
          ],
          "name": "stdout"
        }
      ]
    },
    {
      "cell_type": "code",
      "metadata": {
        "id": "xEY_uHdrZxr9",
        "colab_type": "code",
        "colab": {}
      },
      "source": [
        ""
      ],
      "execution_count": 0,
      "outputs": []
    },
    {
      "cell_type": "code",
      "metadata": {
        "id": "vhYW7Eq1ZxyC",
        "colab_type": "code",
        "colab": {}
      },
      "source": [
        ""
      ],
      "execution_count": 0,
      "outputs": []
    },
    {
      "cell_type": "code",
      "metadata": {
        "id": "SDfSOnMJZjct",
        "colab_type": "code",
        "colab": {}
      },
      "source": [
        "import pandas as pd\n",
        "from scipy import stats\n",
        "from sklearn.cluster import KMeans\n",
        "import matplotlib.pyplot as plt\n",
        "import seaborn as sns"
      ],
      "execution_count": 0,
      "outputs": []
    },
    {
      "cell_type": "code",
      "metadata": {
        "id": "feHzcZnAWy9G",
        "colab_type": "code",
        "colab": {
          "base_uri": "https://localhost:8080/",
          "height": 246
        },
        "outputId": "c0d0286b-358f-47d4-d584-6478c8928087"
      },
      "source": [
        "df = pd.read_csv('dlbcl_preprocessed.txt', header = None , sep=' ' )\n",
        "df.head()"
      ],
      "execution_count": 40,
      "outputs": [
        {
          "output_type": "execute_result",
          "data": {
            "text/html": [
              "<div>\n",
              "<style scoped>\n",
              "    .dataframe tbody tr th:only-of-type {\n",
              "        vertical-align: middle;\n",
              "    }\n",
              "\n",
              "    .dataframe tbody tr th {\n",
              "        vertical-align: top;\n",
              "    }\n",
              "\n",
              "    .dataframe thead th {\n",
              "        text-align: right;\n",
              "    }\n",
              "</style>\n",
              "<table border=\"1\" class=\"dataframe\">\n",
              "  <thead>\n",
              "    <tr style=\"text-align: right;\">\n",
              "      <th></th>\n",
              "      <th>0</th>\n",
              "      <th>1</th>\n",
              "      <th>2</th>\n",
              "      <th>3</th>\n",
              "      <th>4</th>\n",
              "      <th>5</th>\n",
              "      <th>6</th>\n",
              "      <th>7</th>\n",
              "      <th>8</th>\n",
              "      <th>9</th>\n",
              "      <th>...</th>\n",
              "      <th>68</th>\n",
              "      <th>69</th>\n",
              "      <th>70</th>\n",
              "      <th>71</th>\n",
              "      <th>72</th>\n",
              "      <th>73</th>\n",
              "      <th>74</th>\n",
              "      <th>75</th>\n",
              "      <th>76</th>\n",
              "      <th>77</th>\n",
              "    </tr>\n",
              "  </thead>\n",
              "  <tbody>\n",
              "    <tr>\n",
              "      <th>0</th>\n",
              "      <td>A28102_at</td>\n",
              "      <td>766.641438</td>\n",
              "      <td>773.865121</td>\n",
              "      <td>1405.578179</td>\n",
              "      <td>998.368321</td>\n",
              "      <td>1196.410368</td>\n",
              "      <td>877.489566</td>\n",
              "      <td>985.997191</td>\n",
              "      <td>797.388033</td>\n",
              "      <td>1325.268204</td>\n",
              "      <td>...</td>\n",
              "      <td>616.894257</td>\n",
              "      <td>1239.576382</td>\n",
              "      <td>964.218278</td>\n",
              "      <td>768.828127</td>\n",
              "      <td>695.573655</td>\n",
              "      <td>715.334712</td>\n",
              "      <td>1469.582552</td>\n",
              "      <td>773.449718</td>\n",
              "      <td>1051.385520</td>\n",
              "      <td>1002.147982</td>\n",
              "    </tr>\n",
              "    <tr>\n",
              "      <th>1</th>\n",
              "      <td>AB000114_at</td>\n",
              "      <td>555.720641</td>\n",
              "      <td>422.732757</td>\n",
              "      <td>600.159750</td>\n",
              "      <td>454.351773</td>\n",
              "      <td>837.224699</td>\n",
              "      <td>849.100054</td>\n",
              "      <td>648.697772</td>\n",
              "      <td>426.612265</td>\n",
              "      <td>672.285031</td>\n",
              "      <td>...</td>\n",
              "      <td>439.720855</td>\n",
              "      <td>701.499011</td>\n",
              "      <td>541.069495</td>\n",
              "      <td>529.532609</td>\n",
              "      <td>413.100731</td>\n",
              "      <td>521.978989</td>\n",
              "      <td>864.323464</td>\n",
              "      <td>574.023235</td>\n",
              "      <td>635.089523</td>\n",
              "      <td>699.537355</td>\n",
              "    </tr>\n",
              "    <tr>\n",
              "      <th>2</th>\n",
              "      <td>AB000115_at</td>\n",
              "      <td>691.214533</td>\n",
              "      <td>856.915398</td>\n",
              "      <td>694.416481</td>\n",
              "      <td>761.426765</td>\n",
              "      <td>1037.254172</td>\n",
              "      <td>1234.196280</td>\n",
              "      <td>1134.589229</td>\n",
              "      <td>666.814007</td>\n",
              "      <td>995.182984</td>\n",
              "      <td>...</td>\n",
              "      <td>1386.846144</td>\n",
              "      <td>771.303028</td>\n",
              "      <td>837.186396</td>\n",
              "      <td>915.509577</td>\n",
              "      <td>624.736412</td>\n",
              "      <td>868.721379</td>\n",
              "      <td>1097.449801</td>\n",
              "      <td>683.639082</td>\n",
              "      <td>807.437439</td>\n",
              "      <td>913.208019</td>\n",
              "    </tr>\n",
              "    <tr>\n",
              "      <th>3</th>\n",
              "      <td>AB000220_at</td>\n",
              "      <td>541.307724</td>\n",
              "      <td>499.503064</td>\n",
              "      <td>603.836309</td>\n",
              "      <td>430.826342</td>\n",
              "      <td>839.575270</td>\n",
              "      <td>534.436861</td>\n",
              "      <td>670.277238</td>\n",
              "      <td>525.937466</td>\n",
              "      <td>585.678810</td>\n",
              "      <td>...</td>\n",
              "      <td>636.664678</td>\n",
              "      <td>612.478206</td>\n",
              "      <td>533.529787</td>\n",
              "      <td>459.419674</td>\n",
              "      <td>422.341154</td>\n",
              "      <td>545.226945</td>\n",
              "      <td>877.149345</td>\n",
              "      <td>557.992828</td>\n",
              "      <td>759.467597</td>\n",
              "      <td>606.505939</td>\n",
              "    </tr>\n",
              "    <tr>\n",
              "      <th>4</th>\n",
              "      <td>AB000409_at</td>\n",
              "      <td>1071.146880</td>\n",
              "      <td>1011.280030</td>\n",
              "      <td>1044.097223</td>\n",
              "      <td>1374.274472</td>\n",
              "      <td>1494.958842</td>\n",
              "      <td>1056.126153</td>\n",
              "      <td>1136.099294</td>\n",
              "      <td>1077.246582</td>\n",
              "      <td>1007.712920</td>\n",
              "      <td>...</td>\n",
              "      <td>1381.037726</td>\n",
              "      <td>899.483802</td>\n",
              "      <td>1253.650248</td>\n",
              "      <td>1125.612623</td>\n",
              "      <td>1040.631401</td>\n",
              "      <td>1241.448009</td>\n",
              "      <td>1518.529512</td>\n",
              "      <td>1082.058385</td>\n",
              "      <td>1288.913105</td>\n",
              "      <td>1199.067588</td>\n",
              "    </tr>\n",
              "  </tbody>\n",
              "</table>\n",
              "<p>5 rows × 78 columns</p>\n",
              "</div>"
            ],
            "text/plain": [
              "            0            1            2            3            4   \\\n",
              "0    A28102_at   766.641438   773.865121  1405.578179   998.368321   \n",
              "1  AB000114_at   555.720641   422.732757   600.159750   454.351773   \n",
              "2  AB000115_at   691.214533   856.915398   694.416481   761.426765   \n",
              "3  AB000220_at   541.307724   499.503064   603.836309   430.826342   \n",
              "4  AB000409_at  1071.146880  1011.280030  1044.097223  1374.274472   \n",
              "\n",
              "            5            6            7            8            9   ...  \\\n",
              "0  1196.410368   877.489566   985.997191   797.388033  1325.268204  ...   \n",
              "1   837.224699   849.100054   648.697772   426.612265   672.285031  ...   \n",
              "2  1037.254172  1234.196280  1134.589229   666.814007   995.182984  ...   \n",
              "3   839.575270   534.436861   670.277238   525.937466   585.678810  ...   \n",
              "4  1494.958842  1056.126153  1136.099294  1077.246582  1007.712920  ...   \n",
              "\n",
              "            68           69           70           71           72  \\\n",
              "0   616.894257  1239.576382   964.218278   768.828127   695.573655   \n",
              "1   439.720855   701.499011   541.069495   529.532609   413.100731   \n",
              "2  1386.846144   771.303028   837.186396   915.509577   624.736412   \n",
              "3   636.664678   612.478206   533.529787   459.419674   422.341154   \n",
              "4  1381.037726   899.483802  1253.650248  1125.612623  1040.631401   \n",
              "\n",
              "            73           74           75           76           77  \n",
              "0   715.334712  1469.582552   773.449718  1051.385520  1002.147982  \n",
              "1   521.978989   864.323464   574.023235   635.089523   699.537355  \n",
              "2   868.721379  1097.449801   683.639082   807.437439   913.208019  \n",
              "3   545.226945   877.149345   557.992828   759.467597   606.505939  \n",
              "4  1241.448009  1518.529512  1082.058385  1288.913105  1199.067588  \n",
              "\n",
              "[5 rows x 78 columns]"
            ]
          },
          "metadata": {
            "tags": []
          },
          "execution_count": 40
        }
      ]
    },
    {
      "cell_type": "code",
      "metadata": {
        "id": "ypni_fEdWy9L",
        "colab_type": "code",
        "colab": {}
      },
      "source": [
        "df.drop(0,axis = 1,inplace = True)"
      ],
      "execution_count": 0,
      "outputs": []
    },
    {
      "cell_type": "code",
      "metadata": {
        "id": "pApy4PdOaiic",
        "colab_type": "code",
        "colab": {
          "base_uri": "https://localhost:8080/",
          "height": 246
        },
        "outputId": "cde8126d-4abb-4665-e360-50e964bccd86"
      },
      "source": [
        "df.head()"
      ],
      "execution_count": 42,
      "outputs": [
        {
          "output_type": "execute_result",
          "data": {
            "text/html": [
              "<div>\n",
              "<style scoped>\n",
              "    .dataframe tbody tr th:only-of-type {\n",
              "        vertical-align: middle;\n",
              "    }\n",
              "\n",
              "    .dataframe tbody tr th {\n",
              "        vertical-align: top;\n",
              "    }\n",
              "\n",
              "    .dataframe thead th {\n",
              "        text-align: right;\n",
              "    }\n",
              "</style>\n",
              "<table border=\"1\" class=\"dataframe\">\n",
              "  <thead>\n",
              "    <tr style=\"text-align: right;\">\n",
              "      <th></th>\n",
              "      <th>1</th>\n",
              "      <th>2</th>\n",
              "      <th>3</th>\n",
              "      <th>4</th>\n",
              "      <th>5</th>\n",
              "      <th>6</th>\n",
              "      <th>7</th>\n",
              "      <th>8</th>\n",
              "      <th>9</th>\n",
              "      <th>10</th>\n",
              "      <th>...</th>\n",
              "      <th>68</th>\n",
              "      <th>69</th>\n",
              "      <th>70</th>\n",
              "      <th>71</th>\n",
              "      <th>72</th>\n",
              "      <th>73</th>\n",
              "      <th>74</th>\n",
              "      <th>75</th>\n",
              "      <th>76</th>\n",
              "      <th>77</th>\n",
              "    </tr>\n",
              "  </thead>\n",
              "  <tbody>\n",
              "    <tr>\n",
              "      <th>0</th>\n",
              "      <td>766.641438</td>\n",
              "      <td>773.865121</td>\n",
              "      <td>1405.578179</td>\n",
              "      <td>998.368321</td>\n",
              "      <td>1196.410368</td>\n",
              "      <td>877.489566</td>\n",
              "      <td>985.997191</td>\n",
              "      <td>797.388033</td>\n",
              "      <td>1325.268204</td>\n",
              "      <td>1384.826306</td>\n",
              "      <td>...</td>\n",
              "      <td>616.894257</td>\n",
              "      <td>1239.576382</td>\n",
              "      <td>964.218278</td>\n",
              "      <td>768.828127</td>\n",
              "      <td>695.573655</td>\n",
              "      <td>715.334712</td>\n",
              "      <td>1469.582552</td>\n",
              "      <td>773.449718</td>\n",
              "      <td>1051.385520</td>\n",
              "      <td>1002.147982</td>\n",
              "    </tr>\n",
              "    <tr>\n",
              "      <th>1</th>\n",
              "      <td>555.720641</td>\n",
              "      <td>422.732757</td>\n",
              "      <td>600.159750</td>\n",
              "      <td>454.351773</td>\n",
              "      <td>837.224699</td>\n",
              "      <td>849.100054</td>\n",
              "      <td>648.697772</td>\n",
              "      <td>426.612265</td>\n",
              "      <td>672.285031</td>\n",
              "      <td>589.219783</td>\n",
              "      <td>...</td>\n",
              "      <td>439.720855</td>\n",
              "      <td>701.499011</td>\n",
              "      <td>541.069495</td>\n",
              "      <td>529.532609</td>\n",
              "      <td>413.100731</td>\n",
              "      <td>521.978989</td>\n",
              "      <td>864.323464</td>\n",
              "      <td>574.023235</td>\n",
              "      <td>635.089523</td>\n",
              "      <td>699.537355</td>\n",
              "    </tr>\n",
              "    <tr>\n",
              "      <th>2</th>\n",
              "      <td>691.214533</td>\n",
              "      <td>856.915398</td>\n",
              "      <td>694.416481</td>\n",
              "      <td>761.426765</td>\n",
              "      <td>1037.254172</td>\n",
              "      <td>1234.196280</td>\n",
              "      <td>1134.589229</td>\n",
              "      <td>666.814007</td>\n",
              "      <td>995.182984</td>\n",
              "      <td>837.536555</td>\n",
              "      <td>...</td>\n",
              "      <td>1386.846144</td>\n",
              "      <td>771.303028</td>\n",
              "      <td>837.186396</td>\n",
              "      <td>915.509577</td>\n",
              "      <td>624.736412</td>\n",
              "      <td>868.721379</td>\n",
              "      <td>1097.449801</td>\n",
              "      <td>683.639082</td>\n",
              "      <td>807.437439</td>\n",
              "      <td>913.208019</td>\n",
              "    </tr>\n",
              "    <tr>\n",
              "      <th>3</th>\n",
              "      <td>541.307724</td>\n",
              "      <td>499.503064</td>\n",
              "      <td>603.836309</td>\n",
              "      <td>430.826342</td>\n",
              "      <td>839.575270</td>\n",
              "      <td>534.436861</td>\n",
              "      <td>670.277238</td>\n",
              "      <td>525.937466</td>\n",
              "      <td>585.678810</td>\n",
              "      <td>601.697023</td>\n",
              "      <td>...</td>\n",
              "      <td>636.664678</td>\n",
              "      <td>612.478206</td>\n",
              "      <td>533.529787</td>\n",
              "      <td>459.419674</td>\n",
              "      <td>422.341154</td>\n",
              "      <td>545.226945</td>\n",
              "      <td>877.149345</td>\n",
              "      <td>557.992828</td>\n",
              "      <td>759.467597</td>\n",
              "      <td>606.505939</td>\n",
              "    </tr>\n",
              "    <tr>\n",
              "      <th>4</th>\n",
              "      <td>1071.146880</td>\n",
              "      <td>1011.280030</td>\n",
              "      <td>1044.097223</td>\n",
              "      <td>1374.274472</td>\n",
              "      <td>1494.958842</td>\n",
              "      <td>1056.126153</td>\n",
              "      <td>1136.099294</td>\n",
              "      <td>1077.246582</td>\n",
              "      <td>1007.712920</td>\n",
              "      <td>937.714409</td>\n",
              "      <td>...</td>\n",
              "      <td>1381.037726</td>\n",
              "      <td>899.483802</td>\n",
              "      <td>1253.650248</td>\n",
              "      <td>1125.612623</td>\n",
              "      <td>1040.631401</td>\n",
              "      <td>1241.448009</td>\n",
              "      <td>1518.529512</td>\n",
              "      <td>1082.058385</td>\n",
              "      <td>1288.913105</td>\n",
              "      <td>1199.067588</td>\n",
              "    </tr>\n",
              "  </tbody>\n",
              "</table>\n",
              "<p>5 rows × 77 columns</p>\n",
              "</div>"
            ],
            "text/plain": [
              "            1            2            3            4            5   \\\n",
              "0   766.641438   773.865121  1405.578179   998.368321  1196.410368   \n",
              "1   555.720641   422.732757   600.159750   454.351773   837.224699   \n",
              "2   691.214533   856.915398   694.416481   761.426765  1037.254172   \n",
              "3   541.307724   499.503064   603.836309   430.826342   839.575270   \n",
              "4  1071.146880  1011.280030  1044.097223  1374.274472  1494.958842   \n",
              "\n",
              "            6            7            8            9            10  ...  \\\n",
              "0   877.489566   985.997191   797.388033  1325.268204  1384.826306  ...   \n",
              "1   849.100054   648.697772   426.612265   672.285031   589.219783  ...   \n",
              "2  1234.196280  1134.589229   666.814007   995.182984   837.536555  ...   \n",
              "3   534.436861   670.277238   525.937466   585.678810   601.697023  ...   \n",
              "4  1056.126153  1136.099294  1077.246582  1007.712920   937.714409  ...   \n",
              "\n",
              "            68           69           70           71           72  \\\n",
              "0   616.894257  1239.576382   964.218278   768.828127   695.573655   \n",
              "1   439.720855   701.499011   541.069495   529.532609   413.100731   \n",
              "2  1386.846144   771.303028   837.186396   915.509577   624.736412   \n",
              "3   636.664678   612.478206   533.529787   459.419674   422.341154   \n",
              "4  1381.037726   899.483802  1253.650248  1125.612623  1040.631401   \n",
              "\n",
              "            73           74           75           76           77  \n",
              "0   715.334712  1469.582552   773.449718  1051.385520  1002.147982  \n",
              "1   521.978989   864.323464   574.023235   635.089523   699.537355  \n",
              "2   868.721379  1097.449801   683.639082   807.437439   913.208019  \n",
              "3   545.226945   877.149345   557.992828   759.467597   606.505939  \n",
              "4  1241.448009  1518.529512  1082.058385  1288.913105  1199.067588  \n",
              "\n",
              "[5 rows x 77 columns]"
            ]
          },
          "metadata": {
            "tags": []
          },
          "execution_count": 42
        }
      ]
    },
    {
      "cell_type": "code",
      "metadata": {
        "id": "SGt2lcmuWy9O",
        "colab_type": "code",
        "colab": {}
      },
      "source": [
        "kmeans = KMeans(n_clusters=10, random_state=0).fit(df)\n",
        "labels = kmeans.labels_"
      ],
      "execution_count": 0,
      "outputs": []
    },
    {
      "cell_type": "code",
      "metadata": {
        "id": "9UCnf14DauHC",
        "colab_type": "code",
        "colab": {
          "base_uri": "https://localhost:8080/",
          "height": 52
        },
        "outputId": "97293d3e-e911-4315-c6b6-ea10810c8029"
      },
      "source": [
        "original = df.as_matrix(columns=None)"
      ],
      "execution_count": 44,
      "outputs": [
        {
          "output_type": "stream",
          "text": [
            "/usr/local/lib/python3.6/dist-packages/ipykernel_launcher.py:1: FutureWarning: Method .as_matrix will be removed in a future version. Use .values instead.\n",
            "  \"\"\"Entry point for launching an IPython kernel.\n"
          ],
          "name": "stderr"
        }
      ]
    },
    {
      "cell_type": "code",
      "metadata": {
        "id": "85RR0Pu9auJ7",
        "colab_type": "code",
        "colab": {}
      },
      "source": [
        "\n",
        "\n",
        "%matplotlib inline\n",
        "import pandas as pd\n",
        "from sklearn.datasets import load_iris\n",
        "from sklearn.decomposition import PCA\n",
        "from sklearn.manifold import TSNE\n",
        "\n",
        "import matplotlib.pyplot as plt\n",
        "from matplotlib.colors import ListedColormap\n",
        "from mpl_toolkits.mplot3d import Axes3D\n",
        "import seaborn as sns\n",
        "\n"
      ],
      "execution_count": 0,
      "outputs": []
    },
    {
      "cell_type": "code",
      "metadata": {
        "id": "SX_FA3DBauMq",
        "colab_type": "code",
        "colab": {
          "base_uri": "https://localhost:8080/",
          "height": 286
        },
        "outputId": "becdccc9-8ebe-48ac-9846-3e487f506407"
      },
      "source": [
        "tsne = TSNE(n_components=2, n_iter=1000, random_state=42)\n",
        "points = tsne.fit_transform(original)\n",
        "plt.scatter(x = points[:, 0], y = points[:, 1],\n",
        "        c=labels,\n",
        "        cmap=ListedColormap(sns.color_palette('Dark2', n_colors=10).as_hex()),\n",
        "        s=70)"
      ],
      "execution_count": 46,
      "outputs": [
        {
          "output_type": "execute_result",
          "data": {
            "text/plain": [
              "<matplotlib.collections.PathCollection at 0x7f7537f72320>"
            ]
          },
          "metadata": {
            "tags": []
          },
          "execution_count": 46
        },
        {
          "output_type": "display_data",
          "data": {
            "image/png": "[encoded data removed]",
            "text/plain": [
              "<Figure size 432x288 with 1 Axes>"
            ]
          },
          "metadata": {
            "tags": []
          }
        }
      ]
    },
    {
      "cell_type": "code",
      "metadata": {
        "id": "OsLXa2wld17G",
        "colab_type": "code",
        "colab": {
          "base_uri": "https://localhost:8080/",
          "height": 34
        },
        "outputId": "dcc6ea34-c487-407b-94d9-f3911cf0233e"
      },
      "source": [
        "labels"
      ],
      "execution_count": 24,
      "outputs": [
        {
          "output_type": "execute_result",
          "data": {
            "text/plain": [
              "array([1, 1, 1, ..., 9, 1, 1], dtype=int32)"
            ]
          },
          "metadata": {
            "tags": []
          },
          "execution_count": 24
        }
      ]
    },
    {
      "cell_type": "code",
      "metadata": {
        "id": "miby99FJd3YO",
        "colab_type": "code",
        "colab": {}
      },
      "source": [
        "df['km'] = labels"
      ],
      "execution_count": 0,
      "outputs": []
    },
    {
      "cell_type": "code",
      "metadata": {
        "id": "wQMPvCVleMgK",
        "colab_type": "code",
        "colab": {
          "base_uri": "https://localhost:8080/",
          "height": 246
        },
        "outputId": "d07b8099-7459-442a-df64-97c0ba5c358e"
      },
      "source": [
        "df.head()"
      ],
      "execution_count": 26,
      "outputs": [
        {
          "output_type": "execute_result",
          "data": {
            "text/html": [
              "<div>\n",
              "<style scoped>\n",
              "    .dataframe tbody tr th:only-of-type {\n",
              "        vertical-align: middle;\n",
              "    }\n",
              "\n",
              "    .dataframe tbody tr th {\n",
              "        vertical-align: top;\n",
              "    }\n",
              "\n",
              "    .dataframe thead th {\n",
              "        text-align: right;\n",
              "    }\n",
              "</style>\n",
              "<table border=\"1\" class=\"dataframe\">\n",
              "  <thead>\n",
              "    <tr style=\"text-align: right;\">\n",
              "      <th></th>\n",
              "      <th>1</th>\n",
              "      <th>2</th>\n",
              "      <th>3</th>\n",
              "      <th>4</th>\n",
              "      <th>5</th>\n",
              "      <th>6</th>\n",
              "      <th>7</th>\n",
              "      <th>8</th>\n",
              "      <th>9</th>\n",
              "      <th>10</th>\n",
              "      <th>...</th>\n",
              "      <th>69</th>\n",
              "      <th>70</th>\n",
              "      <th>71</th>\n",
              "      <th>72</th>\n",
              "      <th>73</th>\n",
              "      <th>74</th>\n",
              "      <th>75</th>\n",
              "      <th>76</th>\n",
              "      <th>77</th>\n",
              "      <th>km</th>\n",
              "    </tr>\n",
              "  </thead>\n",
              "  <tbody>\n",
              "    <tr>\n",
              "      <th>0</th>\n",
              "      <td>766.641438</td>\n",
              "      <td>773.865121</td>\n",
              "      <td>1405.578179</td>\n",
              "      <td>998.368321</td>\n",
              "      <td>1196.410368</td>\n",
              "      <td>877.489566</td>\n",
              "      <td>985.997191</td>\n",
              "      <td>797.388033</td>\n",
              "      <td>1325.268204</td>\n",
              "      <td>1384.826306</td>\n",
              "      <td>...</td>\n",
              "      <td>1239.576382</td>\n",
              "      <td>964.218278</td>\n",
              "      <td>768.828127</td>\n",
              "      <td>695.573655</td>\n",
              "      <td>715.334712</td>\n",
              "      <td>1469.582552</td>\n",
              "      <td>773.449718</td>\n",
              "      <td>1051.385520</td>\n",
              "      <td>1002.147982</td>\n",
              "      <td>1</td>\n",
              "    </tr>\n",
              "    <tr>\n",
              "      <th>1</th>\n",
              "      <td>555.720641</td>\n",
              "      <td>422.732757</td>\n",
              "      <td>600.159750</td>\n",
              "      <td>454.351773</td>\n",
              "      <td>837.224699</td>\n",
              "      <td>849.100054</td>\n",
              "      <td>648.697772</td>\n",
              "      <td>426.612265</td>\n",
              "      <td>672.285031</td>\n",
              "      <td>589.219783</td>\n",
              "      <td>...</td>\n",
              "      <td>701.499011</td>\n",
              "      <td>541.069495</td>\n",
              "      <td>529.532609</td>\n",
              "      <td>413.100731</td>\n",
              "      <td>521.978989</td>\n",
              "      <td>864.323464</td>\n",
              "      <td>574.023235</td>\n",
              "      <td>635.089523</td>\n",
              "      <td>699.537355</td>\n",
              "      <td>1</td>\n",
              "    </tr>\n",
              "    <tr>\n",
              "      <th>2</th>\n",
              "      <td>691.214533</td>\n",
              "      <td>856.915398</td>\n",
              "      <td>694.416481</td>\n",
              "      <td>761.426765</td>\n",
              "      <td>1037.254172</td>\n",
              "      <td>1234.196280</td>\n",
              "      <td>1134.589229</td>\n",
              "      <td>666.814007</td>\n",
              "      <td>995.182984</td>\n",
              "      <td>837.536555</td>\n",
              "      <td>...</td>\n",
              "      <td>771.303028</td>\n",
              "      <td>837.186396</td>\n",
              "      <td>915.509577</td>\n",
              "      <td>624.736412</td>\n",
              "      <td>868.721379</td>\n",
              "      <td>1097.449801</td>\n",
              "      <td>683.639082</td>\n",
              "      <td>807.437439</td>\n",
              "      <td>913.208019</td>\n",
              "      <td>1</td>\n",
              "    </tr>\n",
              "    <tr>\n",
              "      <th>3</th>\n",
              "      <td>541.307724</td>\n",
              "      <td>499.503064</td>\n",
              "      <td>603.836309</td>\n",
              "      <td>430.826342</td>\n",
              "      <td>839.575270</td>\n",
              "      <td>534.436861</td>\n",
              "      <td>670.277238</td>\n",
              "      <td>525.937466</td>\n",
              "      <td>585.678810</td>\n",
              "      <td>601.697023</td>\n",
              "      <td>...</td>\n",
              "      <td>612.478206</td>\n",
              "      <td>533.529787</td>\n",
              "      <td>459.419674</td>\n",
              "      <td>422.341154</td>\n",
              "      <td>545.226945</td>\n",
              "      <td>877.149345</td>\n",
              "      <td>557.992828</td>\n",
              "      <td>759.467597</td>\n",
              "      <td>606.505939</td>\n",
              "      <td>1</td>\n",
              "    </tr>\n",
              "    <tr>\n",
              "      <th>4</th>\n",
              "      <td>1071.146880</td>\n",
              "      <td>1011.280030</td>\n",
              "      <td>1044.097223</td>\n",
              "      <td>1374.274472</td>\n",
              "      <td>1494.958842</td>\n",
              "      <td>1056.126153</td>\n",
              "      <td>1136.099294</td>\n",
              "      <td>1077.246582</td>\n",
              "      <td>1007.712920</td>\n",
              "      <td>937.714409</td>\n",
              "      <td>...</td>\n",
              "      <td>899.483802</td>\n",
              "      <td>1253.650248</td>\n",
              "      <td>1125.612623</td>\n",
              "      <td>1040.631401</td>\n",
              "      <td>1241.448009</td>\n",
              "      <td>1518.529512</td>\n",
              "      <td>1082.058385</td>\n",
              "      <td>1288.913105</td>\n",
              "      <td>1199.067588</td>\n",
              "      <td>9</td>\n",
              "    </tr>\n",
              "  </tbody>\n",
              "</table>\n",
              "<p>5 rows × 78 columns</p>\n",
              "</div>"
            ],
            "text/plain": [
              "             1            2            3            4            5  \\\n",
              "0   766.641438   773.865121  1405.578179   998.368321  1196.410368   \n",
              "1   555.720641   422.732757   600.159750   454.351773   837.224699   \n",
              "2   691.214533   856.915398   694.416481   761.426765  1037.254172   \n",
              "3   541.307724   499.503064   603.836309   430.826342   839.575270   \n",
              "4  1071.146880  1011.280030  1044.097223  1374.274472  1494.958842   \n",
              "\n",
              "             6            7            8            9           10  ...  \\\n",
              "0   877.489566   985.997191   797.388033  1325.268204  1384.826306  ...   \n",
              "1   849.100054   648.697772   426.612265   672.285031   589.219783  ...   \n",
              "2  1234.196280  1134.589229   666.814007   995.182984   837.536555  ...   \n",
              "3   534.436861   670.277238   525.937466   585.678810   601.697023  ...   \n",
              "4  1056.126153  1136.099294  1077.246582  1007.712920   937.714409  ...   \n",
              "\n",
              "            69           70           71           72           73  \\\n",
              "0  1239.576382   964.218278   768.828127   695.573655   715.334712   \n",
              "1   701.499011   541.069495   529.532609   413.100731   521.978989   \n",
              "2   771.303028   837.186396   915.509577   624.736412   868.721379   \n",
              "3   612.478206   533.529787   459.419674   422.341154   545.226945   \n",
              "4   899.483802  1253.650248  1125.612623  1040.631401  1241.448009   \n",
              "\n",
              "            74           75           76           77  km  \n",
              "0  1469.582552   773.449718  1051.385520  1002.147982   1  \n",
              "1   864.323464   574.023235   635.089523   699.537355   1  \n",
              "2  1097.449801   683.639082   807.437439   913.208019   1  \n",
              "3   877.149345   557.992828   759.467597   606.505939   1  \n",
              "4  1518.529512  1082.058385  1288.913105  1199.067588   9  \n",
              "\n",
              "[5 rows x 78 columns]"
            ]
          },
          "metadata": {
            "tags": []
          },
          "execution_count": 26
        }
      ]
    },
    {
      "cell_type": "code",
      "metadata": {
        "id": "Q9p4KG0leOFM",
        "colab_type": "code",
        "colab": {}
      },
      "source": [
        "df2=df"
      ],
      "execution_count": 0,
      "outputs": []
    },
    {
      "cell_type": "code",
      "metadata": {
        "id": "yvLYl0GtfGZt",
        "colab_type": "code",
        "colab": {}
      },
      "source": [
        "df2= df2.sort_values(by=['km'])"
      ],
      "execution_count": 0,
      "outputs": []
    },
    {
      "cell_type": "code",
      "metadata": {
        "id": "0JKpxf5bfhCz",
        "colab_type": "code",
        "colab": {
          "base_uri": "https://localhost:8080/",
          "height": 246
        },
        "outputId": "f6db3290-c132-4458-ed3f-de916a9fa2f6"
      },
      "source": [
        "df2.head()"
      ],
      "execution_count": 36,
      "outputs": [
        {
          "output_type": "execute_result",
          "data": {
            "text/html": [
              "<div>\n",
              "<style scoped>\n",
              "    .dataframe tbody tr th:only-of-type {\n",
              "        vertical-align: middle;\n",
              "    }\n",
              "\n",
              "    .dataframe tbody tr th {\n",
              "        vertical-align: top;\n",
              "    }\n",
              "\n",
              "    .dataframe thead th {\n",
              "        text-align: right;\n",
              "    }\n",
              "</style>\n",
              "<table border=\"1\" class=\"dataframe\">\n",
              "  <thead>\n",
              "    <tr style=\"text-align: right;\">\n",
              "      <th></th>\n",
              "      <th>1</th>\n",
              "      <th>2</th>\n",
              "      <th>3</th>\n",
              "      <th>4</th>\n",
              "      <th>5</th>\n",
              "      <th>6</th>\n",
              "      <th>7</th>\n",
              "      <th>8</th>\n",
              "      <th>9</th>\n",
              "      <th>10</th>\n",
              "      <th>...</th>\n",
              "      <th>69</th>\n",
              "      <th>70</th>\n",
              "      <th>71</th>\n",
              "      <th>72</th>\n",
              "      <th>73</th>\n",
              "      <th>74</th>\n",
              "      <th>75</th>\n",
              "      <th>76</th>\n",
              "      <th>77</th>\n",
              "      <th>km</th>\n",
              "    </tr>\n",
              "  </thead>\n",
              "  <tbody>\n",
              "    <tr>\n",
              "      <th>1761</th>\n",
              "      <td>4465.063148</td>\n",
              "      <td>5595.731759</td>\n",
              "      <td>5740.501150</td>\n",
              "      <td>5710.913465</td>\n",
              "      <td>7651.110002</td>\n",
              "      <td>2690.562288</td>\n",
              "      <td>1954.866844</td>\n",
              "      <td>7882.713926</td>\n",
              "      <td>3622.995450</td>\n",
              "      <td>4839.590388</td>\n",
              "      <td>...</td>\n",
              "      <td>2598.979301</td>\n",
              "      <td>6418.458779</td>\n",
              "      <td>2466.184674</td>\n",
              "      <td>5263.447221</td>\n",
              "      <td>7936.737378</td>\n",
              "      <td>4007.128276</td>\n",
              "      <td>3806.299558</td>\n",
              "      <td>3670.805198</td>\n",
              "      <td>5404.931299</td>\n",
              "      <td>0</td>\n",
              "    </tr>\n",
              "    <tr>\n",
              "      <th>2279</th>\n",
              "      <td>3865.867580</td>\n",
              "      <td>4043.670583</td>\n",
              "      <td>2811.271024</td>\n",
              "      <td>2861.921746</td>\n",
              "      <td>6434.004905</td>\n",
              "      <td>2344.713988</td>\n",
              "      <td>2313.762838</td>\n",
              "      <td>7427.821437</td>\n",
              "      <td>6021.160901</td>\n",
              "      <td>3839.524329</td>\n",
              "      <td>...</td>\n",
              "      <td>2173.835208</td>\n",
              "      <td>7264.926497</td>\n",
              "      <td>3835.796053</td>\n",
              "      <td>6656.326217</td>\n",
              "      <td>8972.065988</td>\n",
              "      <td>3974.620217</td>\n",
              "      <td>3920.664956</td>\n",
              "      <td>3188.602973</td>\n",
              "      <td>3443.579458</td>\n",
              "      <td>0</td>\n",
              "    </tr>\n",
              "    <tr>\n",
              "      <th>1275</th>\n",
              "      <td>4729.018709</td>\n",
              "      <td>3729.892927</td>\n",
              "      <td>3040.006203</td>\n",
              "      <td>2225.135885</td>\n",
              "      <td>7140.371991</td>\n",
              "      <td>1337.018294</td>\n",
              "      <td>2088.643151</td>\n",
              "      <td>8803.960988</td>\n",
              "      <td>6823.134358</td>\n",
              "      <td>4030.552771</td>\n",
              "      <td>...</td>\n",
              "      <td>2332.771045</td>\n",
              "      <td>10730.405980</td>\n",
              "      <td>3585.462180</td>\n",
              "      <td>11220.400620</td>\n",
              "      <td>11936.016237</td>\n",
              "      <td>4932.980270</td>\n",
              "      <td>6367.652469</td>\n",
              "      <td>5348.037174</td>\n",
              "      <td>5938.460048</td>\n",
              "      <td>0</td>\n",
              "    </tr>\n",
              "    <tr>\n",
              "      <th>2268</th>\n",
              "      <td>5196.101256</td>\n",
              "      <td>4825.094185</td>\n",
              "      <td>5458.545512</td>\n",
              "      <td>7614.630318</td>\n",
              "      <td>4173.496908</td>\n",
              "      <td>5417.247546</td>\n",
              "      <td>5350.552831</td>\n",
              "      <td>4270.917881</td>\n",
              "      <td>4060.351938</td>\n",
              "      <td>3890.315012</td>\n",
              "      <td>...</td>\n",
              "      <td>6718.030428</td>\n",
              "      <td>3819.038358</td>\n",
              "      <td>4698.259478</td>\n",
              "      <td>3535.767607</td>\n",
              "      <td>5494.663581</td>\n",
              "      <td>5250.908795</td>\n",
              "      <td>4471.715545</td>\n",
              "      <td>6476.161657</td>\n",
              "      <td>5404.717635</td>\n",
              "      <td>0</td>\n",
              "    </tr>\n",
              "    <tr>\n",
              "      <th>638</th>\n",
              "      <td>5554.057112</td>\n",
              "      <td>4363.490220</td>\n",
              "      <td>4277.634935</td>\n",
              "      <td>5145.167042</td>\n",
              "      <td>7657.608696</td>\n",
              "      <td>5365.398368</td>\n",
              "      <td>3057.354395</td>\n",
              "      <td>6510.821225</td>\n",
              "      <td>5406.252205</td>\n",
              "      <td>5366.532807</td>\n",
              "      <td>...</td>\n",
              "      <td>3079.180790</td>\n",
              "      <td>5382.690263</td>\n",
              "      <td>3585.334244</td>\n",
              "      <td>4367.604401</td>\n",
              "      <td>5833.643960</td>\n",
              "      <td>5352.505828</td>\n",
              "      <td>4297.084501</td>\n",
              "      <td>4714.576733</td>\n",
              "      <td>5664.006329</td>\n",
              "      <td>0</td>\n",
              "    </tr>\n",
              "  </tbody>\n",
              "</table>\n",
              "<p>5 rows × 78 columns</p>\n",
              "</div>"
            ],
            "text/plain": [
              "                1            2            3            4            5  \\\n",
              "1761  4465.063148  5595.731759  5740.501150  5710.913465  7651.110002   \n",
              "2279  3865.867580  4043.670583  2811.271024  2861.921746  6434.004905   \n",
              "1275  4729.018709  3729.892927  3040.006203  2225.135885  7140.371991   \n",
              "2268  5196.101256  4825.094185  5458.545512  7614.630318  4173.496908   \n",
              "638   5554.057112  4363.490220  4277.634935  5145.167042  7657.608696   \n",
              "\n",
              "                6            7            8            9           10  ...  \\\n",
              "1761  2690.562288  1954.866844  7882.713926  3622.995450  4839.590388  ...   \n",
              "2279  2344.713988  2313.762838  7427.821437  6021.160901  3839.524329  ...   \n",
              "1275  1337.018294  2088.643151  8803.960988  6823.134358  4030.552771  ...   \n",
              "2268  5417.247546  5350.552831  4270.917881  4060.351938  3890.315012  ...   \n",
              "638   5365.398368  3057.354395  6510.821225  5406.252205  5366.532807  ...   \n",
              "\n",
              "               69            70           71            72            73  \\\n",
              "1761  2598.979301   6418.458779  2466.184674   5263.447221   7936.737378   \n",
              "2279  2173.835208   7264.926497  3835.796053   6656.326217   8972.065988   \n",
              "1275  2332.771045  10730.405980  3585.462180  11220.400620  11936.016237   \n",
              "2268  6718.030428   3819.038358  4698.259478   3535.767607   5494.663581   \n",
              "638   3079.180790   5382.690263  3585.334244   4367.604401   5833.643960   \n",
              "\n",
              "               74           75           76           77  km  \n",
              "1761  4007.128276  3806.299558  3670.805198  5404.931299   0  \n",
              "2279  3974.620217  3920.664956  3188.602973  3443.579458   0  \n",
              "1275  4932.980270  6367.652469  5348.037174  5938.460048   0  \n",
              "2268  5250.908795  4471.715545  6476.161657  5404.717635   0  \n",
              "638   5352.505828  4297.084501  4714.576733  5664.006329   0  \n",
              "\n",
              "[5 rows x 78 columns]"
            ]
          },
          "metadata": {
            "tags": []
          },
          "execution_count": 36
        }
      ]
    },
    {
      "cell_type": "code",
      "metadata": {
        "id": "Yptlagubf4dH",
        "colab_type": "code",
        "colab": {
          "base_uri": "https://localhost:8080/",
          "height": 212
        },
        "outputId": "e846333d-57c3-4fe9-cf83-221becd31a6d"
      },
      "source": [
        "df2.km.value_counts()"
      ],
      "execution_count": 37,
      "outputs": [
        {
          "output_type": "execute_result",
          "data": {
            "text/plain": [
              "1    1031\n",
              "9     738\n",
              "5     399\n",
              "3     193\n",
              "0      93\n",
              "6      62\n",
              "2      53\n",
              "4      34\n",
              "8      24\n",
              "7      21\n",
              "Name: km, dtype: int64"
            ]
          },
          "metadata": {
            "tags": []
          },
          "execution_count": 37
        }
      ]
    },
    {
      "cell_type": "code",
      "metadata": {
        "id": "HFliFdPOgDF_",
        "colab_type": "code",
        "colab": {}
      },
      "source": [
        ""
      ],
      "execution_count": 0,
      "outputs": []
    }
  ]
}