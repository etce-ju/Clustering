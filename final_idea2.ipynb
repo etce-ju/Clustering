{
 "cells": [
  {
   "cell_type": "code",
   "execution_count": 1,
   "metadata": {},
   "outputs": [],
   "source": [
    "%matplotlib inline\n",
    "import pandas as pd\n",
    "from sklearn.datasets import load_iris\n",
    "from sklearn.decomposition import PCA\n",
    "from sklearn.manifold import TSNE\n",
    "\n",
    "import matplotlib.pyplot as plt\n",
    "from matplotlib.colors import ListedColormap\n",
    "from mpl_toolkits.mplot3d import Axes3D\n",
    "import seaborn as sns\n"
   ]
  },
  {
   "cell_type": "code",
   "execution_count": 2,
   "metadata": {},
   "outputs": [],
   "source": [
    "import numpy as np\n",
    "import pandas as pd\n",
    "import matplotlib.pyplot as plt\n",
    "import seaborn as sns\n",
    "import warnings\n",
    "\n",
    "%matplotlib inline\n",
    "warnings.filterwarnings(\"ignore\")"
   ]
  },
  {
   "cell_type": "code",
   "execution_count": 3,
   "metadata": {},
   "outputs": [
    {
     "data": {
      "text/html": [
       "<div>\n",
       "<style scoped>\n",
       "    .dataframe tbody tr th:only-of-type {\n",
       "        vertical-align: middle;\n",
       "    }\n",
       "\n",
       "    .dataframe tbody tr th {\n",
       "        vertical-align: top;\n",
       "    }\n",
       "\n",
       "    .dataframe thead th {\n",
       "        text-align: right;\n",
       "    }\n",
       "</style>\n",
       "<table border=\"1\" class=\"dataframe\">\n",
       "  <thead>\n",
       "    <tr style=\"text-align: right;\">\n",
       "      <th></th>\n",
       "      <th>0</th>\n",
       "      <th>1</th>\n",
       "      <th>2</th>\n",
       "      <th>3</th>\n",
       "      <th>4</th>\n",
       "      <th>5</th>\n",
       "      <th>6</th>\n",
       "      <th>7</th>\n",
       "      <th>8</th>\n",
       "      <th>9</th>\n",
       "      <th>...</th>\n",
       "      <th>68</th>\n",
       "      <th>69</th>\n",
       "      <th>70</th>\n",
       "      <th>71</th>\n",
       "      <th>72</th>\n",
       "      <th>73</th>\n",
       "      <th>74</th>\n",
       "      <th>75</th>\n",
       "      <th>76</th>\n",
       "      <th>77</th>\n",
       "    </tr>\n",
       "  </thead>\n",
       "  <tbody>\n",
       "    <tr>\n",
       "      <th>0</th>\n",
       "      <td>A28102_at</td>\n",
       "      <td>766.641438</td>\n",
       "      <td>773.865121</td>\n",
       "      <td>1405.578179</td>\n",
       "      <td>998.368321</td>\n",
       "      <td>1196.410368</td>\n",
       "      <td>877.489566</td>\n",
       "      <td>985.997191</td>\n",
       "      <td>797.388033</td>\n",
       "      <td>1325.268204</td>\n",
       "      <td>...</td>\n",
       "      <td>616.894257</td>\n",
       "      <td>1239.576382</td>\n",
       "      <td>964.218278</td>\n",
       "      <td>768.828127</td>\n",
       "      <td>695.573655</td>\n",
       "      <td>715.334712</td>\n",
       "      <td>1469.582552</td>\n",
       "      <td>773.449718</td>\n",
       "      <td>1051.385520</td>\n",
       "      <td>1002.147982</td>\n",
       "    </tr>\n",
       "    <tr>\n",
       "      <th>1</th>\n",
       "      <td>AB000114_at</td>\n",
       "      <td>555.720641</td>\n",
       "      <td>422.732757</td>\n",
       "      <td>600.159750</td>\n",
       "      <td>454.351773</td>\n",
       "      <td>837.224699</td>\n",
       "      <td>849.100054</td>\n",
       "      <td>648.697772</td>\n",
       "      <td>426.612265</td>\n",
       "      <td>672.285031</td>\n",
       "      <td>...</td>\n",
       "      <td>439.720855</td>\n",
       "      <td>701.499011</td>\n",
       "      <td>541.069495</td>\n",
       "      <td>529.532609</td>\n",
       "      <td>413.100731</td>\n",
       "      <td>521.978989</td>\n",
       "      <td>864.323464</td>\n",
       "      <td>574.023235</td>\n",
       "      <td>635.089523</td>\n",
       "      <td>699.537355</td>\n",
       "    </tr>\n",
       "    <tr>\n",
       "      <th>2</th>\n",
       "      <td>AB000115_at</td>\n",
       "      <td>691.214533</td>\n",
       "      <td>856.915398</td>\n",
       "      <td>694.416481</td>\n",
       "      <td>761.426765</td>\n",
       "      <td>1037.254172</td>\n",
       "      <td>1234.196280</td>\n",
       "      <td>1134.589229</td>\n",
       "      <td>666.814007</td>\n",
       "      <td>995.182984</td>\n",
       "      <td>...</td>\n",
       "      <td>1386.846144</td>\n",
       "      <td>771.303028</td>\n",
       "      <td>837.186396</td>\n",
       "      <td>915.509577</td>\n",
       "      <td>624.736412</td>\n",
       "      <td>868.721379</td>\n",
       "      <td>1097.449801</td>\n",
       "      <td>683.639082</td>\n",
       "      <td>807.437439</td>\n",
       "      <td>913.208019</td>\n",
       "    </tr>\n",
       "    <tr>\n",
       "      <th>3</th>\n",
       "      <td>AB000220_at</td>\n",
       "      <td>541.307724</td>\n",
       "      <td>499.503064</td>\n",
       "      <td>603.836309</td>\n",
       "      <td>430.826342</td>\n",
       "      <td>839.575270</td>\n",
       "      <td>534.436861</td>\n",
       "      <td>670.277238</td>\n",
       "      <td>525.937466</td>\n",
       "      <td>585.678810</td>\n",
       "      <td>...</td>\n",
       "      <td>636.664678</td>\n",
       "      <td>612.478206</td>\n",
       "      <td>533.529787</td>\n",
       "      <td>459.419674</td>\n",
       "      <td>422.341154</td>\n",
       "      <td>545.226945</td>\n",
       "      <td>877.149345</td>\n",
       "      <td>557.992828</td>\n",
       "      <td>759.467597</td>\n",
       "      <td>606.505939</td>\n",
       "    </tr>\n",
       "    <tr>\n",
       "      <th>4</th>\n",
       "      <td>AB000409_at</td>\n",
       "      <td>1071.146880</td>\n",
       "      <td>1011.280030</td>\n",
       "      <td>1044.097223</td>\n",
       "      <td>1374.274472</td>\n",
       "      <td>1494.958842</td>\n",
       "      <td>1056.126153</td>\n",
       "      <td>1136.099294</td>\n",
       "      <td>1077.246582</td>\n",
       "      <td>1007.712920</td>\n",
       "      <td>...</td>\n",
       "      <td>1381.037726</td>\n",
       "      <td>899.483802</td>\n",
       "      <td>1253.650248</td>\n",
       "      <td>1125.612623</td>\n",
       "      <td>1040.631401</td>\n",
       "      <td>1241.448009</td>\n",
       "      <td>1518.529512</td>\n",
       "      <td>1082.058385</td>\n",
       "      <td>1288.913105</td>\n",
       "      <td>1199.067588</td>\n",
       "    </tr>\n",
       "  </tbody>\n",
       "</table>\n",
       "<p>5 rows × 78 columns</p>\n",
       "</div>"
      ],
      "text/plain": [
       "            0            1            2            3            4   \\\n",
       "0    A28102_at   766.641438   773.865121  1405.578179   998.368321   \n",
       "1  AB000114_at   555.720641   422.732757   600.159750   454.351773   \n",
       "2  AB000115_at   691.214533   856.915398   694.416481   761.426765   \n",
       "3  AB000220_at   541.307724   499.503064   603.836309   430.826342   \n",
       "4  AB000409_at  1071.146880  1011.280030  1044.097223  1374.274472   \n",
       "\n",
       "            5            6            7            8            9   ...  \\\n",
       "0  1196.410368   877.489566   985.997191   797.388033  1325.268204  ...   \n",
       "1   837.224699   849.100054   648.697772   426.612265   672.285031  ...   \n",
       "2  1037.254172  1234.196280  1134.589229   666.814007   995.182984  ...   \n",
       "3   839.575270   534.436861   670.277238   525.937466   585.678810  ...   \n",
       "4  1494.958842  1056.126153  1136.099294  1077.246582  1007.712920  ...   \n",
       "\n",
       "            68           69           70           71           72  \\\n",
       "0   616.894257  1239.576382   964.218278   768.828127   695.573655   \n",
       "1   439.720855   701.499011   541.069495   529.532609   413.100731   \n",
       "2  1386.846144   771.303028   837.186396   915.509577   624.736412   \n",
       "3   636.664678   612.478206   533.529787   459.419674   422.341154   \n",
       "4  1381.037726   899.483802  1253.650248  1125.612623  1040.631401   \n",
       "\n",
       "            73           74           75           76           77  \n",
       "0   715.334712  1469.582552   773.449718  1051.385520  1002.147982  \n",
       "1   521.978989   864.323464   574.023235   635.089523   699.537355  \n",
       "2   868.721379  1097.449801   683.639082   807.437439   913.208019  \n",
       "3   545.226945   877.149345   557.992828   759.467597   606.505939  \n",
       "4  1241.448009  1518.529512  1082.058385  1288.913105  1199.067588  \n",
       "\n",
       "[5 rows x 78 columns]"
      ]
     },
     "execution_count": 3,
     "metadata": {},
     "output_type": "execute_result"
    }
   ],
   "source": [
    "df = pd.read_csv('dlbcl_preprocessed.txt', header = None , sep=' ' )\n",
    "df.head()"
   ]
  },
  {
   "cell_type": "code",
   "execution_count": 4,
   "metadata": {},
   "outputs": [],
   "source": [
    "df2 = df.head(10)"
   ]
  },
  {
   "cell_type": "code",
   "execution_count": 5,
   "metadata": {},
   "outputs": [],
   "source": [
    "df2 = df2[[1,2,3]]"
   ]
  },
  {
   "cell_type": "code",
   "execution_count": 6,
   "metadata": {},
   "outputs": [
    {
     "data": {
      "text/html": [
       "<div>\n",
       "<style scoped>\n",
       "    .dataframe tbody tr th:only-of-type {\n",
       "        vertical-align: middle;\n",
       "    }\n",
       "\n",
       "    .dataframe tbody tr th {\n",
       "        vertical-align: top;\n",
       "    }\n",
       "\n",
       "    .dataframe thead th {\n",
       "        text-align: right;\n",
       "    }\n",
       "</style>\n",
       "<table border=\"1\" class=\"dataframe\">\n",
       "  <thead>\n",
       "    <tr style=\"text-align: right;\">\n",
       "      <th></th>\n",
       "      <th>1</th>\n",
       "      <th>2</th>\n",
       "      <th>3</th>\n",
       "    </tr>\n",
       "  </thead>\n",
       "  <tbody>\n",
       "    <tr>\n",
       "      <th>0</th>\n",
       "      <td>766.641438</td>\n",
       "      <td>773.865121</td>\n",
       "      <td>1405.578179</td>\n",
       "    </tr>\n",
       "    <tr>\n",
       "      <th>1</th>\n",
       "      <td>555.720641</td>\n",
       "      <td>422.732757</td>\n",
       "      <td>600.159750</td>\n",
       "    </tr>\n",
       "    <tr>\n",
       "      <th>2</th>\n",
       "      <td>691.214533</td>\n",
       "      <td>856.915398</td>\n",
       "      <td>694.416481</td>\n",
       "    </tr>\n",
       "    <tr>\n",
       "      <th>3</th>\n",
       "      <td>541.307724</td>\n",
       "      <td>499.503064</td>\n",
       "      <td>603.836309</td>\n",
       "    </tr>\n",
       "    <tr>\n",
       "      <th>4</th>\n",
       "      <td>1071.146880</td>\n",
       "      <td>1011.280030</td>\n",
       "      <td>1044.097223</td>\n",
       "    </tr>\n",
       "  </tbody>\n",
       "</table>\n",
       "</div>"
      ],
      "text/plain": [
       "             1            2            3\n",
       "0   766.641438   773.865121  1405.578179\n",
       "1   555.720641   422.732757   600.159750\n",
       "2   691.214533   856.915398   694.416481\n",
       "3   541.307724   499.503064   603.836309\n",
       "4  1071.146880  1011.280030  1044.097223"
      ]
     },
     "execution_count": 6,
     "metadata": {},
     "output_type": "execute_result"
    }
   ],
   "source": [
    "df2.head()"
   ]
  },
  {
   "cell_type": "code",
   "execution_count": 7,
   "metadata": {},
   "outputs": [],
   "source": [
    "df2=df2.rename( columns={1:0,2:1,3:2})"
   ]
  },
  {
   "cell_type": "code",
   "execution_count": 8,
   "metadata": {},
   "outputs": [],
   "source": [
    "df2= df2.iloc[0:10]"
   ]
  },
  {
   "cell_type": "code",
   "execution_count": 9,
   "metadata": {},
   "outputs": [
    {
     "data": {
      "text/html": [
       "<div>\n",
       "<style scoped>\n",
       "    .dataframe tbody tr th:only-of-type {\n",
       "        vertical-align: middle;\n",
       "    }\n",
       "\n",
       "    .dataframe tbody tr th {\n",
       "        vertical-align: top;\n",
       "    }\n",
       "\n",
       "    .dataframe thead th {\n",
       "        text-align: right;\n",
       "    }\n",
       "</style>\n",
       "<table border=\"1\" class=\"dataframe\">\n",
       "  <thead>\n",
       "    <tr style=\"text-align: right;\">\n",
       "      <th></th>\n",
       "      <th>0</th>\n",
       "      <th>1</th>\n",
       "      <th>2</th>\n",
       "    </tr>\n",
       "  </thead>\n",
       "  <tbody>\n",
       "    <tr>\n",
       "      <th>0</th>\n",
       "      <td>766.641438</td>\n",
       "      <td>773.865121</td>\n",
       "      <td>1405.578179</td>\n",
       "    </tr>\n",
       "    <tr>\n",
       "      <th>1</th>\n",
       "      <td>555.720641</td>\n",
       "      <td>422.732757</td>\n",
       "      <td>600.159750</td>\n",
       "    </tr>\n",
       "    <tr>\n",
       "      <th>2</th>\n",
       "      <td>691.214533</td>\n",
       "      <td>856.915398</td>\n",
       "      <td>694.416481</td>\n",
       "    </tr>\n",
       "    <tr>\n",
       "      <th>3</th>\n",
       "      <td>541.307724</td>\n",
       "      <td>499.503064</td>\n",
       "      <td>603.836309</td>\n",
       "    </tr>\n",
       "    <tr>\n",
       "      <th>4</th>\n",
       "      <td>1071.146880</td>\n",
       "      <td>1011.280030</td>\n",
       "      <td>1044.097223</td>\n",
       "    </tr>\n",
       "    <tr>\n",
       "      <th>5</th>\n",
       "      <td>792.385579</td>\n",
       "      <td>617.507703</td>\n",
       "      <td>967.313015</td>\n",
       "    </tr>\n",
       "    <tr>\n",
       "      <th>6</th>\n",
       "      <td>619.781103</td>\n",
       "      <td>505.821700</td>\n",
       "      <td>717.910395</td>\n",
       "    </tr>\n",
       "    <tr>\n",
       "      <th>7</th>\n",
       "      <td>1025.738198</td>\n",
       "      <td>655.536193</td>\n",
       "      <td>721.028208</td>\n",
       "    </tr>\n",
       "    <tr>\n",
       "      <th>8</th>\n",
       "      <td>2779.694245</td>\n",
       "      <td>1843.701009</td>\n",
       "      <td>2703.723537</td>\n",
       "    </tr>\n",
       "    <tr>\n",
       "      <th>9</th>\n",
       "      <td>1700.876595</td>\n",
       "      <td>766.059861</td>\n",
       "      <td>867.727801</td>\n",
       "    </tr>\n",
       "  </tbody>\n",
       "</table>\n",
       "</div>"
      ],
      "text/plain": [
       "             0            1            2\n",
       "0   766.641438   773.865121  1405.578179\n",
       "1   555.720641   422.732757   600.159750\n",
       "2   691.214533   856.915398   694.416481\n",
       "3   541.307724   499.503064   603.836309\n",
       "4  1071.146880  1011.280030  1044.097223\n",
       "5   792.385579   617.507703   967.313015\n",
       "6   619.781103   505.821700   717.910395\n",
       "7  1025.738198   655.536193   721.028208\n",
       "8  2779.694245  1843.701009  2703.723537\n",
       "9  1700.876595   766.059861   867.727801"
      ]
     },
     "execution_count": 9,
     "metadata": {},
     "output_type": "execute_result"
    }
   ],
   "source": [
    "df2"
   ]
  },
  {
   "cell_type": "code",
   "execution_count": 10,
   "metadata": {},
   "outputs": [],
   "source": [
    "####for original data, replace df2 by df henceward"
   ]
  },
  {
   "cell_type": "code",
   "execution_count": 11,
   "metadata": {},
   "outputs": [],
   "source": [
    "m=[]\n",
    "m= df2.max()"
   ]
  },
  {
   "cell_type": "code",
   "execution_count": 12,
   "metadata": {},
   "outputs": [],
   "source": [
    "lt = len(df2)\n",
    "f_l=len(df2.columns)"
   ]
  },
  {
   "cell_type": "code",
   "execution_count": 13,
   "metadata": {},
   "outputs": [
    {
     "data": {
      "text/plain": [
       "0    2779.694245\n",
       "1    1843.701009\n",
       "2    2703.723537\n",
       "dtype: float64"
      ]
     },
     "execution_count": 13,
     "metadata": {},
     "output_type": "execute_result"
    }
   ],
   "source": [
    "m"
   ]
  },
  {
   "cell_type": "code",
   "execution_count": 14,
   "metadata": {},
   "outputs": [],
   "source": [
    "l=[]\n",
    "l= df2.min()"
   ]
  },
  {
   "cell_type": "code",
   "execution_count": 15,
   "metadata": {},
   "outputs": [
    {
     "data": {
      "text/plain": [
       "0    541.307724\n",
       "1    422.732757\n",
       "2    600.159750\n",
       "dtype: float64"
      ]
     },
     "execution_count": 15,
     "metadata": {},
     "output_type": "execute_result"
    }
   ],
   "source": [
    "l"
   ]
  },
  {
   "cell_type": "code",
   "execution_count": 91,
   "metadata": {},
   "outputs": [],
   "source": [
    "#alter for perfection\n",
    "k=[]\n",
    "k=(m-l)/20"
   ]
  },
  {
   "cell_type": "code",
   "execution_count": 92,
   "metadata": {},
   "outputs": [
    {
     "data": {
      "text/plain": [
       "0    111.919326\n",
       "1     71.048413\n",
       "2    105.178189\n",
       "dtype: float64"
      ]
     },
     "execution_count": 92,
     "metadata": {},
     "output_type": "execute_result"
    }
   ],
   "source": [
    "k"
   ]
  },
  {
   "cell_type": "code",
   "execution_count": 93,
   "metadata": {},
   "outputs": [],
   "source": [
    "mat = [[-1 for i in range(f_l)] for j in range(lt)]"
   ]
  },
  {
   "cell_type": "code",
   "execution_count": 94,
   "metadata": {},
   "outputs": [
    {
     "data": {
      "text/plain": [
       "3"
      ]
     },
     "execution_count": 94,
     "metadata": {},
     "output_type": "execute_result"
    }
   ],
   "source": [
    "len(mat[0])"
   ]
  },
  {
   "cell_type": "code",
   "execution_count": 95,
   "metadata": {},
   "outputs": [],
   "source": [
    "original = df2.as_matrix(columns=None)"
   ]
  },
  {
   "cell_type": "code",
   "execution_count": 96,
   "metadata": {},
   "outputs": [
    {
     "data": {
      "text/plain": [
       "3"
      ]
     },
     "execution_count": 96,
     "metadata": {},
     "output_type": "execute_result"
    }
   ],
   "source": [
    "len(original[0])"
   ]
  },
  {
   "cell_type": "code",
   "execution_count": 97,
   "metadata": {},
   "outputs": [
    {
     "data": {
      "text/plain": [
       "array([792.38557863, 617.50770318, 967.31301474])"
      ]
     },
     "execution_count": 97,
     "metadata": {},
     "output_type": "execute_result"
    }
   ],
   "source": [
    "original[5]"
   ]
  },
  {
   "cell_type": "code",
   "execution_count": 98,
   "metadata": {},
   "outputs": [
    {
     "data": {
      "text/plain": [
       "10"
      ]
     },
     "execution_count": 98,
     "metadata": {},
     "output_type": "execute_result"
    }
   ],
   "source": [
    "lt"
   ]
  },
  {
   "cell_type": "code",
   "execution_count": 99,
   "metadata": {},
   "outputs": [],
   "source": [
    "#for g1 only\n",
    "\n",
    "for i in range(lt):\n",
    "    for j in range (f_l):\n",
    "        if original[i][j] >= original[0][j] - k[j]  and original[i][j] <= original[i][0] + k[j]:\n",
    "            mat[i][j] = 1\n",
    "        "
   ]
  },
  {
   "cell_type": "code",
   "execution_count": 100,
   "metadata": {},
   "outputs": [],
   "source": [
    "dist = [[[0 for k1 in range(f_l)] for j in range(lt)] for i in range(lt)]"
   ]
  },
  {
   "cell_type": "code",
   "execution_count": 101,
   "metadata": {},
   "outputs": [
    {
     "name": "stdout",
     "output_type": "stream",
     "text": [
      "CPU times: user 4.16 ms, sys: 28 µs, total: 4.19 ms\n",
      "Wall time: 4.14 ms\n"
     ]
    }
   ],
   "source": [
    "%%time\n",
    "\n",
    "#k1 traverses through each gene as g1, g2,..\n",
    "#i traverses through individual gene as g11, g12 or correlation with g1 \n",
    "#j is for the different parameters\n",
    "\n",
    "for k1 in range (lt):    \n",
    "    for i in range(lt):\n",
    "        for j in range (f_l):\n",
    "            if original[i][j] >= original[k1][j] - k[j]  and original[i][j] <= original[k1][j] + k[j]:\n",
    "                dist[k1][i][j] = 1\n",
    " "
   ]
  },
  {
   "cell_type": "code",
   "execution_count": 102,
   "metadata": {},
   "outputs": [],
   "source": [
    "tot_clu =[]\n",
    "tot_clu1 =[]\n",
    "for i in range(len(dist)) :\n",
    "    point_clu = []\n",
    "    point_clu1 = []\n",
    "    for j in range(len(dist[i])):\n",
    "        if np.sum(dist[i][j]) == 3 :\n",
    "            point_clu.append(original[j])\n",
    "            point_clu1.append(j)\n",
    "    tot_clu.append(point_clu)\n",
    "    tot_clu1.append(point_clu1)"
   ]
  },
  {
   "cell_type": "code",
   "execution_count": 103,
   "metadata": {},
   "outputs": [],
   "source": [
    "list_2 = [x for x in tot_clu if x]\n",
    "list_21 = [x for x in tot_clu1 if x]"
   ]
  },
  {
   "cell_type": "code",
   "execution_count": 104,
   "metadata": {},
   "outputs": [],
   "source": [
    "# Modified QuickSort\n",
    "# Given a set of clustures, sorts according to the length of clustures\n",
    "\n",
    "\n",
    "def partition(arr,low,high): \n",
    "    i = ( low-1 )         # index of smaller element \n",
    "    pivot = arr[high]     # pivot \n",
    "  \n",
    "    for j in range(low , high): \n",
    "  \n",
    "        # If current element is smaller than or \n",
    "        # equal to pivot \n",
    "        if   len(arr[j]) <= len(pivot) : \n",
    "          \n",
    "            # increment index of smaller element \n",
    "            i = i+1 \n",
    "            arr[i],arr[j] = arr[j],arr[i] \n",
    "  \n",
    "    arr[i+1],arr[high] = arr[high],arr[i+1] \n",
    "    return ( i+1 ) \n",
    "  \n",
    "# The main function that implements QuickSort \n",
    "# arr[] --> Array to be sorted, \n",
    "# low  --> Starting index, \n",
    "# high  --> Ending index \n",
    "  \n",
    "# Function to do Quick sort \n",
    "def quickSort(arr,low,high): \n",
    "    if low < high: \n",
    "  \n",
    "        # pi is partitioning index, arr[p] is now \n",
    "        # at right place \n",
    "        pi = partition(arr,low,high) \n",
    "  \n",
    "        # Separately sort elements before \n",
    "        # partition and after partition \n",
    "        quickSort(arr, low, pi-1) \n",
    "        quickSort(arr, pi+1, high)"
   ]
  },
  {
   "cell_type": "code",
   "execution_count": 105,
   "metadata": {},
   "outputs": [],
   "source": [
    "test = tot_clu1"
   ]
  },
  {
   "cell_type": "code",
   "execution_count": 106,
   "metadata": {},
   "outputs": [
    {
     "name": "stdout",
     "output_type": "stream",
     "text": [
      "CPU times: user 17 µs, sys: 4 µs, total: 21 µs\n",
      "Wall time: 24.1 µs\n"
     ]
    }
   ],
   "source": [
    "%%time\n",
    "\n",
    "n = len(test) \n",
    "quickSort(test,0,n-1)"
   ]
  },
  {
   "cell_type": "code",
   "execution_count": 107,
   "metadata": {},
   "outputs": [],
   "source": [
    "test.reverse()"
   ]
  },
  {
   "cell_type": "code",
   "execution_count": 108,
   "metadata": {},
   "outputs": [],
   "source": [
    "list2 = [x for x in test]"
   ]
  },
  {
   "cell_type": "code",
   "execution_count": 109,
   "metadata": {},
   "outputs": [],
   "source": [
    "simi_th = 0.9\n"
   ]
  },
  {
   "cell_type": "code",
   "execution_count": 110,
   "metadata": {},
   "outputs": [
    {
     "data": {
      "text/plain": [
       "[[9], [8], [7], [6], [5], [4], [3], [2], [1], [0]]"
      ]
     },
     "execution_count": 110,
     "metadata": {},
     "output_type": "execute_result"
    }
   ],
   "source": [
    "list2"
   ]
  },
  {
   "cell_type": "code",
   "execution_count": 111,
   "metadata": {},
   "outputs": [
    {
     "data": {
      "text/plain": [
       "[[9], [8], [7], [6], [5], [4], [3], [2], [1], [0]]"
      ]
     },
     "execution_count": 111,
     "metadata": {},
     "output_type": "execute_result"
    }
   ],
   "source": [
    "test"
   ]
  },
  {
   "cell_type": "code",
   "execution_count": 112,
   "metadata": {},
   "outputs": [
    {
     "data": {
      "text/plain": [
       "[9]"
      ]
     },
     "execution_count": 112,
     "metadata": {},
     "output_type": "execute_result"
    }
   ],
   "source": [
    "#cluster with first element\n",
    "\n",
    "list2[0]"
   ]
  },
  {
   "cell_type": "code",
   "execution_count": 113,
   "metadata": {},
   "outputs": [],
   "source": [
    "###2-d clustering\n",
    "clu = []\n",
    "clu.append(list2[0])\n",
    "for i in range(1,len(list2)):\n",
    "    clu_new = list2[i]\n",
    "    common_elements = list(set().union(*clu) & set(clu_new))\n",
    "    simi = len(common_elements)/len(clu_new)\n",
    "    clu_nei = list(set(clu_new) - set(common_elements))\n",
    "    if simi < simi_th :\n",
    "        clu.append(clu_nei)\n",
    "    else :\n",
    "        clu[-1] = clu[-1] + clu_nei"
   ]
  },
  {
   "cell_type": "code",
   "execution_count": 114,
   "metadata": {},
   "outputs": [],
   "source": [
    "tot_clu =[]\n",
    "\n",
    "for i in range(len(clu)) :\n",
    "    point_clu = []    \n",
    "    for j in range(len(clu[i])):\n",
    "        k=clu[i][j]\n",
    "        point_clu.append(original[k])            \n",
    "    tot_clu.append(point_clu)\n",
    "    "
   ]
  },
  {
   "cell_type": "code",
   "execution_count": 40,
   "metadata": {},
   "outputs": [
    {
     "data": {
      "text/plain": [
       "[[array([555.72064097, 422.73275651, 600.15975046]),\n",
       "  array([541.3077239 , 499.50306431, 603.83630852]),\n",
       "  array([619.781103  , 505.82170024, 717.91039461])],\n",
       " [array([1700.87659454,  766.05986062,  867.72780114])],\n",
       " [array([2779.69424516, 1843.70100856, 2703.72353709])],\n",
       " [array([1025.73819756,  655.53619304,  721.02820762])],\n",
       " [array([792.38557863, 617.50770318, 967.31301474])],\n",
       " [array([1071.14687964, 1011.28003013, 1044.09722329])],\n",
       " [array([691.21453309, 856.91539828, 694.41648112])],\n",
       " [array([ 766.64143788,  773.86512115, 1405.57817931])]]"
      ]
     },
     "execution_count": 40,
     "metadata": {},
     "output_type": "execute_result"
    }
   ],
   "source": [
    "##k==10% of range\n",
    "tot_clu"
   ]
  },
  {
   "cell_type": "code",
   "execution_count": 65,
   "metadata": {},
   "outputs": [
    {
     "data": {
      "text/plain": [
       "[[array([555.72064097, 422.73275651, 600.15975046]),\n",
       "  array([691.21453309, 856.91539828, 694.41648112]),\n",
       "  array([541.3077239 , 499.50306431, 603.83630852]),\n",
       "  array([792.38557863, 617.50770318, 967.31301474]),\n",
       "  array([619.781103  , 505.82170024, 717.91039461]),\n",
       "  array([1025.73819756,  655.53619304,  721.02820762])],\n",
       " [array([1071.14687964, 1011.28003013, 1044.09722329])],\n",
       " [array([ 766.64143788,  773.86512115, 1405.57817931])],\n",
       " [array([1700.87659454,  766.05986062,  867.72780114])],\n",
       " [array([2779.69424516, 1843.70100856, 2703.72353709])]]"
      ]
     },
     "execution_count": 65,
     "metadata": {},
     "output_type": "execute_result"
    }
   ],
   "source": [
    "##k==20% of range\n",
    "tot_clu"
   ]
  },
  {
   "cell_type": "code",
   "execution_count": 90,
   "metadata": {
    "scrolled": true
   },
   "outputs": [
    {
     "data": {
      "text/plain": [
       "[[array([ 766.64143788,  773.86512115, 1405.57817931]),\n",
       "  array([555.72064097, 422.73275651, 600.15975046]),\n",
       "  array([691.21453309, 856.91539828, 694.41648112]),\n",
       "  array([541.3077239 , 499.50306431, 603.83630852]),\n",
       "  array([1071.14687964, 1011.28003013, 1044.09722329]),\n",
       "  array([792.38557863, 617.50770318, 967.31301474]),\n",
       "  array([619.781103  , 505.82170024, 717.91039461]),\n",
       "  array([1025.73819756,  655.53619304,  721.02820762]),\n",
       "  array([1700.87659454,  766.05986062,  867.72780114])],\n",
       " [array([2779.69424516, 1843.70100856, 2703.72353709])]]"
      ]
     },
     "execution_count": 90,
     "metadata": {},
     "output_type": "execute_result"
    }
   ],
   "source": [
    "##k==33.33% of range\n",
    "tot_clu"
   ]
  },
  {
   "cell_type": "code",
   "execution_count": 115,
   "metadata": {},
   "outputs": [
    {
     "data": {
      "text/plain": [
       "[[array([1700.87659454,  766.05986062,  867.72780114])],\n",
       " [array([2779.69424516, 1843.70100856, 2703.72353709])],\n",
       " [array([1025.73819756,  655.53619304,  721.02820762])],\n",
       " [array([619.781103  , 505.82170024, 717.91039461])],\n",
       " [array([792.38557863, 617.50770318, 967.31301474])],\n",
       " [array([1071.14687964, 1011.28003013, 1044.09722329])],\n",
       " [array([541.3077239 , 499.50306431, 603.83630852])],\n",
       " [array([691.21453309, 856.91539828, 694.41648112])],\n",
       " [array([555.72064097, 422.73275651, 600.15975046])],\n",
       " [array([ 766.64143788,  773.86512115, 1405.57817931])]]"
      ]
     },
     "execution_count": 115,
     "metadata": {},
     "output_type": "execute_result"
    }
   ],
   "source": [
    "##k==5% of range\n",
    "tot_clu"
   ]
  },
  {
   "cell_type": "code",
   "execution_count": null,
   "metadata": {},
   "outputs": [],
   "source": []
  }
 ],
 "metadata": {
  "kernelspec": {
   "display_name": "Python 3",
   "language": "python",
   "name": "python3"
  },
  "language_info": {
   "codemirror_mode": {
    "name": "ipython",
    "version": 3
   },
   "file_extension": ".py",
   "mimetype": "text/x-python",
   "name": "python",
   "nbconvert_exporter": "python",
   "pygments_lexer": "ipython3",
   "version": "3.6.5"
  }
 },
 "nbformat": 4,
 "nbformat_minor": 2
}
